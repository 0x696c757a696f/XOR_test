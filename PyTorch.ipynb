{
 "cells": [
  {
   "cell_type": "code",
   "execution_count": 1,
   "metadata": {},
   "outputs": [],
   "source": [
    "import torch\n"
   ]
  },
  {
   "cell_type": "code",
   "execution_count": 3,
   "metadata": {},
   "outputs": [
    {
     "name": "stdout",
     "output_type": "stream",
     "text": [
      "True\n"
     ]
    }
   ],
   "source": [
    "print(torch.cuda.is_available())"
   ]
  },
  {
   "cell_type": "code",
   "execution_count": 25,
   "metadata": {},
   "outputs": [
    {
     "name": "stdout",
     "output_type": "stream",
     "text": [
      "Epoch: 0, Loss: 0.6981379985809326, \n",
      "Epoch: 1000, Loss: 0.38290995359420776, \n",
      "Epoch: 2000, Loss: 0.07777487486600876, \n",
      "Epoch: 3000, Loss: 0.025176163762807846, \n",
      "Epoch: 4000, Loss: 0.010499616153538227, \n",
      "Epoch: 5000, Loss: 0.004971504211425781, \n",
      "Epoch: 6000, Loss: 0.0025272390339523554, \n",
      "Epoch: 7000, Loss: 0.0013405423378571868, \n",
      "Epoch: 8000, Loss: 0.0007307218620553613, \n",
      "Epoch: 9000, Loss: 0.000405587546993047, \n",
      "Function after training:\n",
      "f(0,0) = tensor([[0.0002]], device='cuda:0', grad_fn=<SigmoidBackward>)\n",
      "f(0,1) = tensor([[0.9998]], device='cuda:0', grad_fn=<SigmoidBackward>)\n",
      "f(1,0) = tensor([[0.9998]], device='cuda:0', grad_fn=<SigmoidBackward>)\n",
      "f(1,1) = tensor([[0.0002]], device='cuda:0', grad_fn=<SigmoidBackward>)\n"
     ]
    }
   ],
   "source": [
    "import numpy as np\n",
    "\n",
    "import torch\n",
    "from torch import nn\n",
    "from torch.autograd import Variable\n",
    "from torch import FloatTensor\n",
    "from torch import optim\n",
    "\n",
    "use_cuda = torch.cuda.is_available()\n",
    "\n",
    "X = xor_input = np.array([[0,0], [0,1], [1,0], [1,1]])\n",
    "Y = xor_output = np.array([[0,1,1,0]]).T\n",
    "\n",
    "# Converting the X to PyTorch-able data structure.\n",
    "X_pt = Variable(FloatTensor(X))\n",
    "X_pt = X_pt.cuda() if use_cuda else X_pt\n",
    "\n",
    "# Converting the Y to PyTorch-able data structure.\n",
    "Y_pt = Variable(FloatTensor(Y), requires_grad=False)\n",
    "Y_pt = Y_pt.cuda() if use_cuda else Y_pt\n",
    "\n",
    "input_dim = 2\n",
    "hidden_dim = 8\n",
    "output_dim = 1\n",
    "\n",
    "model = nn.Sequential(nn.Linear(input_dim, hidden_dim),    \n",
    "                      nn.ReLU(),       \n",
    "                      nn.Linear(hidden_dim, output_dim),\n",
    "                      nn.Sigmoid())\n",
    "if use_cuda:\n",
    "  model.cuda()\n",
    "\n",
    "criterion = nn.BCELoss()\n",
    "#criterion = nn.L1Loss()\n",
    "learning_rate = 0.001\n",
    "#optimizer = optim.SGD(model.parameters(), lr=learning_rate)\n",
    "optimizer = optim.Adam(model.parameters())\n",
    "num_epochs = 10000\n",
    "\n",
    "\n",
    "for epoch in range(num_epochs):\n",
    "    predictions = model(X_pt)\n",
    "    loss_this_epoch = criterion(predictions, Y_pt)\n",
    "    model.zero_grad()\n",
    "    loss_this_epoch.backward()\n",
    "    optimizer.step()\n",
    "    if epoch%1000 == 0: \n",
    "        print(\"Epoch: {0}, Loss: {1}, \".format(epoch, loss_this_epoch.item()))\n",
    "print(\"Function after training:\")\n",
    "print(\"f(0,0) = {}\".format(model1(Variable(torch.FloatTensor([0.0,0.0]).cuda().unsqueeze(0)))))\n",
    "print(\"f(0,1) = {}\".format(model1(Variable(torch.FloatTensor([0.0,1.0]).cuda().unsqueeze(0)))))\n",
    "print(\"f(1,0) = {}\".format(model1(Variable(torch.FloatTensor([1.0,0.0]).cuda().unsqueeze(0)))))\n",
    "print(\"f(1,1) = {}\".format(model1(Variable(torch.FloatTensor([1.0,1.0]).cuda().unsqueeze(0)))))"
   ]
  },
  {
   "cell_type": "code",
   "execution_count": 2,
   "metadata": {},
   "outputs": [
    {
     "data": {
      "text/plain": [
       "True"
      ]
     },
     "execution_count": 2,
     "metadata": {},
     "output_type": "execute_result"
    }
   ],
   "source": [
    "use_cuda"
   ]
  },
  {
   "cell_type": "code",
   "execution_count": null,
   "metadata": {},
   "outputs": [],
   "source": []
  },
  {
   "cell_type": "code",
   "execution_count": null,
   "metadata": {},
   "outputs": [],
   "source": []
  }
 ],
 "metadata": {
  "kernelspec": {
   "display_name": "Python [conda env:pytorchpy3.6]",
   "language": "python",
   "name": "conda-env-pytorchpy3.6-py"
  },
  "language_info": {
   "codemirror_mode": {
    "name": "ipython",
    "version": 3
   },
   "file_extension": ".py",
   "mimetype": "text/x-python",
   "name": "python",
   "nbconvert_exporter": "python",
   "pygments_lexer": "ipython3",
   "version": "3.6.8"
  }
 },
 "nbformat": 4,
 "nbformat_minor": 2
}
